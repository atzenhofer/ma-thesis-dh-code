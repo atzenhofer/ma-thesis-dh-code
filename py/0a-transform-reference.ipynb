{
 "cells": [
  {
   "attachments": {},
   "cell_type": "markdown",
   "metadata": {},
   "source": [
    "# Description \n",
    "This notebook provides the transformation of the Middle High German Reference corpus."
   ]
  },
  {
   "cell_type": "markdown",
   "metadata": {},
   "source": [
    "# Imports and settings"
   ]
  },
  {
   "cell_type": "code",
   "execution_count": 1,
   "metadata": {},
   "outputs": [],
   "source": [
    "from lxml import etree\n",
    "import os\n",
    "import pandas as pd\n",
    "import re\n",
    "import json"
   ]
  },
  {
   "cell_type": "code",
   "execution_count": 2,
   "metadata": {},
   "outputs": [],
   "source": [
    "from formutils import *"
   ]
  },
  {
   "cell_type": "code",
   "execution_count": 3,
   "metadata": {},
   "outputs": [],
   "source": [
    "from tqdm.notebook import tqdm\n",
    "tqdm.pandas()"
   ]
  },
  {
   "attachments": {},
   "cell_type": "markdown",
   "metadata": {},
   "source": [
    "Generate paths and transform .xml to dataframe"
   ]
  },
  {
   "cell_type": "code",
   "execution_count": 4,
   "metadata": {},
   "outputs": [],
   "source": [
    "directory_path = \"../corpora/REM/rem-corralled-20161222\"\n",
    "file_extension = \".xml\""
   ]
  },
  {
   "cell_type": "code",
   "execution_count": 5,
   "metadata": {},
   "outputs": [],
   "source": [
    "paths = [\n",
    "    entry.path\n",
    "    for entry in os.scandir(directory_path)\n",
    "    if entry.is_file() and entry.name.endswith(file_extension)\n",
    "]"
   ]
  },
  {
   "cell_type": "code",
   "execution_count": 6,
   "metadata": {},
   "outputs": [],
   "source": [
    "def get_xml_token(token): # normalized simplified MHG; otherwise ascii chars\n",
    "    tok_anno = token.find(\"tok_anno\")\n",
    "    if tok_anno is not None:\n",
    "        norm = tok_anno.find(\"norm\") \n",
    "        if norm is not None and \"tag\" in norm.attrib:\n",
    "            token_text = norm.attrib[\"tag\"]\n",
    "        else:\n",
    "            token_text = tok_anno.attrib[\"ascii\"]\n",
    "    else:\n",
    "        return []\n",
    "    return token_text"
   ]
  },
  {
   "cell_type": "code",
   "execution_count": 7,
   "metadata": {},
   "outputs": [
    {
     "data": {
      "application/vnd.jupyter.widget-view+json": {
       "model_id": "77eee3c590ef479e8a4269284a530dee",
       "version_major": 2,
       "version_minor": 0
      },
      "text/plain": [
       "  0%|          | 0/398 [00:00<?, ?it/s]"
      ]
     },
     "metadata": {},
     "output_type": "display_data"
    }
   ],
   "source": [
    "contents = []\n",
    "for file in tqdm(paths):\n",
    "    with open(file, \"rb\") as f:\n",
    "        root = etree.parse(f).getroot()\n",
    "        tokens = root.findall(\".//token\")\n",
    "        content = {\n",
    "            \"id\": root.xpath(\"/text/@id\", smart_strings=False),\n",
    "            \"name\": root.xpath(\"/text/header/text/text()\", smart_strings=False),\n",
    "            \"text_type\": root.xpath(\"/text/header/text-type/text()\", smart_strings=False),\n",
    "            \"tokens_anno_ascii\": root.xpath(\"/text/token/tok_anno/@ascii\", smart_strings=False),\n",
    "            \"tokens_anno_norm\": root.xpath(\"/text/token/tok_anno/norm/@tag\", smart_strings=False)\n",
    "        }\n",
    "        content[\"text\"] = [x for x in [get_xml_token(token) for token in tokens] if \"--\" not in x]\n",
    "        contents.append(content)\n",
    "        root.clear()\n",
    "\n",
    "contents_full = pd.DataFrame(contents)"
   ]
  },
  {
   "attachments": {},
   "cell_type": "markdown",
   "metadata": {},
   "source": [
    "Build strings from tokens"
   ]
  },
  {
   "cell_type": "code",
   "execution_count": 8,
   "metadata": {},
   "outputs": [],
   "source": [
    "for col in [\"tokens_anno_ascii\", \"tokens_anno_norm\", \"text\"]:\n",
    "    col_str = f\"{col}_as_string\"\n",
    "    contents_full[col_str] = contents_full[col].str.join(sep=\" \")\n",
    "    contents_full[col_str] = [re.sub(r\" . \", \". \", str(x)) for x in contents_full[col_str]]"
   ]
  },
  {
   "attachments": {},
   "cell_type": "markdown",
   "metadata": {},
   "source": [
    "Filter, explode, and rename"
   ]
  },
  {
   "cell_type": "code",
   "execution_count": 9,
   "metadata": {},
   "outputs": [],
   "source": [
    "df_ref = explode_columns(contents_full[[\"id\", \"name\", \"text_type\", \"text_as_string\"]])\n",
    "df_ref.columns = [\"id\", \"name\", \"text_type\", \"text\"]"
   ]
  },
  {
   "attachments": {},
   "cell_type": "markdown",
   "metadata": {},
   "source": [
    "Charters contained in the REM were disregarded completely. This is because they are contained in text collections, and also, because there is no quick and reliable way to know whether they are duplicates of my main corpus."
   ]
  },
  {
   "cell_type": "code",
   "execution_count": 10,
   "metadata": {},
   "outputs": [],
   "source": [
    "df_ref = df_ref[~df_ref[\"text_type\"].astype(str).str.contains(\"Urkunde\", regex=False)].copy()"
   ]
  },
  {
   "cell_type": "code",
   "execution_count": 11,
   "metadata": {},
   "outputs": [
    {
     "data": {
      "text/plain": [
       "Predigt                                               35\n",
       "Segen                                                 30\n",
       "Bibeldichtung                                         29\n",
       "Gebet                                                 19\n",
       "-                                                     19\n",
       "Heiligenlegende                                       18\n",
       "Mariendichtung                                        16\n",
       "Legenden- und Geschichtsdichtung                      16\n",
       "Psalmenübersetzung                                    14\n",
       "Lehrdichtung                                          11\n",
       "Credo, Beichte                                        10\n",
       "höfischer Roman                                        8\n",
       "Gebetsanweisung                                        7\n",
       "Ordensregel                                            7\n",
       "Antikenroman                                           6\n",
       "frühhöfische Epik                                      5\n",
       "Bibelübersetzung                                       5\n",
       "Arzneibuch                                             5\n",
       "Reimtheologie                                          5\n",
       "Stadtrechtsbuch                                        4\n",
       "Spruchdichtung                                         4\n",
       "Kirchenlied                                            4\n",
       "höfische Epik                                          4\n",
       "Bildbeischriften                                       3\n",
       "Sündenklage                                            3\n",
       "Predigten                                              3\n",
       "Geschichtsdichtung                                     3\n",
       "Traktate                                               2\n",
       "Heiligenlegenden, Predigten                            2\n",
       "Heldenepik                                             2\n",
       "Rezept                                                 2\n",
       "biblische Erzählung                                    2\n",
       "Schulübersetzung                                       2\n",
       "Allegorie                                              2\n",
       "Eid                                                    2\n",
       "Medizinliteratur                                       2\n",
       "Heiligenlegende, Geschichtsdichtung                    2\n",
       "Lehrgespräch                                           2\n",
       "Schwesternbuch                                         2\n",
       "Gebetsanweisungen                                      2\n",
       "Lied                                                   2\n",
       "Bußmahnung                                             1\n",
       "Reimparaphrase                                         1\n",
       "Kochbuch                                               1\n",
       "Reimpaarreden                                          1\n",
       "Mirakelerzählung                                       1\n",
       "Andachtsbuch                                           1\n",
       "Interlinearversion                                     1\n",
       "Satzung                                                1\n",
       "allegorische Naturlehre                                1\n",
       "allegorischer Traktat                                  1\n",
       "allegorische Dichtung                                  1\n",
       "philosophischer Text                                   1\n",
       "historische Kleindichtungen, Preisreden, Minnerede     1\n",
       "Heiligenlegenden                                       1\n",
       "Bibeldichtung, Sündenklage                             1\n",
       "Gnome                                                  1\n",
       "mystischer Traktat                                     1\n",
       "Klagschrift                                            1\n",
       "Kräuterbuch                                            1\n",
       "Sinnsprüche                                            1\n",
       "Segen, Gebetsanweisung                                 1\n",
       "Artusroman                                             1\n",
       "Deutschordensdichtung                                  1\n",
       "Gelöbnis                                               1\n",
       "Psalmendichtung                                        1\n",
       "geistliche Belehrung                                   1\n",
       "Evangelistar                                           1\n",
       "Trauformel                                             1\n",
       "Reimpredigt                                            1\n",
       "Minnesang                                              1\n",
       "Gebete, Predigten, Traktate                            1\n",
       "Heiligenlegende, Lehrdichtung                          1\n",
       "Karlsdichtung                                          1\n",
       "Didaxe                                                 1\n",
       "Übersetzung und Kommentierung                          1\n",
       "Beichte                                                1\n",
       "Rechtssatzungen                                        1\n",
       "Kreuzzugsdichtung                                      1\n",
       "Rezept gegen Gicht                                     1\n",
       "medizinisch-magische Praktik                           1\n",
       "Lebensgeschichte, Heiligenlegende                      1\n",
       "Lunar                                                  1\n",
       "Heiligenlegende, Martyrologium                         1\n",
       "Naturlehre, christliche Allegorese                     1\n",
       "religiöse Unterweisung                                 1\n",
       "Legende                                                1\n",
       "heilsgeschichtliche Erzählung                          1\n",
       "Heldendichtung                                         1\n",
       "Allegorese                                             1\n",
       "Credo, Beichtformel                                    1\n",
       "Heiligenlegende, Tagzeiten                             1\n",
       "Minnelehre                                             1\n",
       "Rechtsbuch                                             1\n",
       "Minne- und Aventiureroman                              1\n",
       "Vaterunser-Auslegung                                   1\n",
       "städtische Rechtssatzungen                             1\n",
       "frühhöfischer Roman                                    1\n",
       "Eidbuch                                                1\n",
       "Heiligenlitanei                                        1\n",
       "allegorisches Gedicht                                  1\n",
       "fiktive Autobiographie                                 1\n",
       "Epische Kompilation                                    1\n",
       "Name: text_type, dtype: int64"
      ]
     },
     "metadata": {},
     "output_type": "display_data"
    }
   ],
   "source": [
    "with pd.option_context(\"display.max_colwidth\", None, \"display.max_rows\", None):\n",
    "    display(df_ref.text_type.value_counts())"
   ]
  },
  {
   "attachments": {},
   "cell_type": "markdown",
   "metadata": {},
   "source": [
    "This makes it clear that categorizes need to be summarized better."
   ]
  },
  {
   "attachments": {},
   "cell_type": "markdown",
   "metadata": {},
   "source": [
    "Categorize and translate texts\n"
   ]
  },
  {
   "cell_type": "code",
   "execution_count": 12,
   "metadata": {},
   "outputs": [],
   "source": [
    "with open(\"../data-push/0a-transform-reference/category-mapping.json\", \"r\") as f:\n",
    "    category_mapping = json.load(f)\n",
    "with open(\"../data-push/0a-transform-reference/translation-mapping.json\", \"r\") as f:\n",
    "    translations_mapping = json.load(f)"
   ]
  },
  {
   "attachments": {},
   "cell_type": "markdown",
   "metadata": {},
   "source": [
    "Restructure and rename"
   ]
  },
  {
   "cell_type": "code",
   "execution_count": 13,
   "metadata": {},
   "outputs": [],
   "source": [
    "df_ref[\"category_de\"] = df_ref[\"text_type\"].map(category_mapping)\n",
    "df_ref[\"category\"] = df_ref[\"category_de\"].map(translations_mapping)\n",
    "df_ref = df_ref.drop([\"category_de\", \"text_type\"], axis=1)"
   ]
  },
  {
   "cell_type": "code",
   "execution_count": 14,
   "metadata": {},
   "outputs": [
    {
     "data": {
      "text/plain": [
       "Prayer             74\n",
       "Miscellaneous      58\n",
       "Biblical poetry    54\n",
       "Legend             51\n",
       "Sermon             40\n",
       "Didactic poetry    33\n",
       "Epic               30\n",
       "Translation        23\n",
       "Recipe             13\n",
       "Rhyme               7\n",
       "Name: category, dtype: int64"
      ]
     },
     "metadata": {},
     "output_type": "display_data"
    }
   ],
   "source": [
    "with pd.option_context(\"display.max_colwidth\", None, \"display.max_rows\", None):\n",
    "    display(df_ref.category.value_counts())"
   ]
  },
  {
   "attachments": {},
   "cell_type": "markdown",
   "metadata": {},
   "source": [
    "# Export"
   ]
  },
  {
   "cell_type": "code",
   "execution_count": 15,
   "metadata": {},
   "outputs": [],
   "source": [
    "df_ref.to_json(\"../data-push/0a-transform-reference/df-ref.json\")"
   ]
  }
 ],
 "metadata": {
  "kernelspec": {
   "display_name": "ma-thesis-dh-code",
   "language": "python",
   "name": "python3"
  },
  "language_info": {
   "codemirror_mode": {
    "name": "ipython",
    "version": 3
   },
   "file_extension": ".py",
   "mimetype": "text/x-python",
   "name": "python",
   "nbconvert_exporter": "python",
   "pygments_lexer": "ipython3",
   "version": "3.10.10"
  },
  "orig_nbformat": 4,
  "vscode": {
   "interpreter": {
    "hash": "dc7a69ea76d1f43569283ce3173bffeec61f095afc233fcb69d493993a19f27f"
   }
  }
 },
 "nbformat": 4,
 "nbformat_minor": 2
}
