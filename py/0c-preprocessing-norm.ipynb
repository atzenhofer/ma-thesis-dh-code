{
 "cells": [
  {
   "attachments": {},
   "cell_type": "markdown",
   "metadata": {},
   "source": [
    "# Description\n",
    "The goals of this notebook are to\n",
    "- find out character encoding, usage, and distribution in the corpora\n",
    "- remove non-essential data\n",
    "- normalize, standardize, and simplify the language (see also the REM handbook, https://www.linguistics.rub.de/rem/documentation/simple.html)"
   ]
  },
  {
   "cell_type": "markdown",
   "metadata": {},
   "source": [
    "# Imports and settings"
   ]
  },
  {
   "cell_type": "code",
   "execution_count": 1,
   "metadata": {},
   "outputs": [],
   "source": [
    "import pandas as pd\n",
    "import numpy as np\n",
    "import string\n",
    "import re\n",
    "import json\n",
    "import matplotlib.pyplot as plt\n",
    "import seaborn as sns\n",
    "from cleantext import clean"
   ]
  },
  {
   "cell_type": "code",
   "execution_count": 2,
   "metadata": {},
   "outputs": [],
   "source": [
    "from ddp_util import *\n",
    "from formutils import *"
   ]
  },
  {
   "cell_type": "code",
   "execution_count": 3,
   "metadata": {},
   "outputs": [],
   "source": [
    "from tqdm.notebook import tqdm\n",
    "tqdm.pandas()"
   ]
  },
  {
   "cell_type": "code",
   "execution_count": 4,
   "metadata": {},
   "outputs": [],
   "source": [
    "plt.style.use([\"bmh\", \"plot.mplstyle\"])\n",
    "colors = plt.rcParams[\"axes.prop_cycle\"].by_key()[\"color\"]"
   ]
  },
  {
   "cell_type": "code",
   "execution_count": 5,
   "metadata": {},
   "outputs": [],
   "source": [
    "final_language_filtered = pd.read_json(\n",
    "    \"../data-push/0b-preprocessing-main/charters-filtered-final.json\", encoding=\"utf-8\"\n",
    ")\n",
    "ref = pd.read_json(\"../data-push/0a-transform-reference/df-ref.json\", encoding=\"utf-8\")"
   ]
  },
  {
   "cell_type": "code",
   "execution_count": 6,
   "metadata": {},
   "outputs": [],
   "source": [
    "df = explode_columns(final_language_filtered[[\"atom_id\", \"cei_abstract_joined\", \"cei_tenor_joined\", \"year\"]])\n",
    "df_ref = ref"
   ]
  },
  {
   "attachments": {},
   "cell_type": "markdown",
   "metadata": {},
   "source": [
    "# Generate filter candidates"
   ]
  },
  {
   "attachments": {},
   "cell_type": "markdown",
   "metadata": {},
   "source": [
    "Check how many unique characters are contained in the corpora"
   ]
  },
  {
   "cell_type": "code",
   "execution_count": 7,
   "metadata": {},
   "outputs": [],
   "source": [
    "unique_chars_df = get_unique_characters(\"\".join(df.cei_tenor_joined.to_list()))\n",
    "unique_chars_df_ref = get_unique_characters(\"\".join(df_ref.text.to_list()))"
   ]
  },
  {
   "cell_type": "code",
   "execution_count": 8,
   "metadata": {},
   "outputs": [
    {
     "name": "stdout",
     "output_type": "stream",
     "text": [
      "165\n",
      "111\n"
     ]
    }
   ],
   "source": [
    "print(len(unique_chars_df))\n",
    "print(len(unique_chars_df_ref))"
   ]
  },
  {
   "attachments": {},
   "cell_type": "markdown",
   "metadata": {},
   "source": [
    "Check how many non-standard characters are contained in the corpora\n"
   ]
  },
  {
   "cell_type": "code",
   "execution_count": 9,
   "metadata": {},
   "outputs": [],
   "source": [
    "ascii_letters = list(string.ascii_letters)\n",
    "allowed = [\",\", \".\", \" \"]  # Others are not removed, e.g., \";\", \":\". These are sometimes used to represent graphemics"
   ]
  },
  {
   "cell_type": "code",
   "execution_count": 10,
   "metadata": {},
   "outputs": [],
   "source": [
    "reduced_unique_characters = sorted(list(set(unique_chars_df) - set(ascii_letters) - set(allowed)))\n",
    "reduced_unique_characters_ref = sorted(list(set(unique_chars_df_ref) - set(ascii_letters) - set(allowed)))"
   ]
  },
  {
   "cell_type": "code",
   "execution_count": 11,
   "metadata": {},
   "outputs": [
    {
     "name": "stdout",
     "output_type": "stream",
     "text": [
      "110\n",
      "56\n"
     ]
    }
   ],
   "source": [
    "print(len(reduced_unique_characters))\n",
    "print(len(reduced_unique_characters_ref))"
   ]
  },
  {
   "attachments": {},
   "cell_type": "markdown",
   "metadata": {},
   "source": [
    "Find out general distribution of non-standard characters.\n",
    "This shows that only 15 % of these charters have a simple character set, i.e., only ascii_letter, comma, dot, whitespace\n"
   ]
  },
  {
   "cell_type": "code",
   "execution_count": 12,
   "metadata": {},
   "outputs": [
    {
     "data": {
      "text/plain": [
       "0.14764443477314765"
      ]
     },
     "execution_count": 12,
     "metadata": {},
     "output_type": "execute_result"
    }
   ],
   "source": [
    "filtered = filter_df_by_strings(\n",
    "    dataframe=df, column=\"cei_tenor_joined\", filter_strings=reduced_unique_characters, mode=\"substrate\"\n",
    ")\n",
    "len(filtered) / len(df)"
   ]
  },
  {
   "attachments": {},
   "cell_type": "markdown",
   "metadata": {},
   "source": [
    "Find out specific distribution of non-standard characters"
   ]
  },
  {
   "cell_type": "code",
   "execution_count": 13,
   "metadata": {},
   "outputs": [
    {
     "data": {
      "text/html": [
       "<div>\n",
       "<style scoped>\n",
       "    .dataframe tbody tr th:only-of-type {\n",
       "        vertical-align: middle;\n",
       "    }\n",
       "\n",
       "    .dataframe tbody tr th {\n",
       "        vertical-align: top;\n",
       "    }\n",
       "\n",
       "    .dataframe thead th {\n",
       "        text-align: right;\n",
       "    }\n",
       "</style>\n",
       "<table border=\"1\" class=\"dataframe\">\n",
       "  <thead>\n",
       "    <tr style=\"text-align: right;\">\n",
       "      <th></th>\n",
       "      <th>char</th>\n",
       "      <th>contained_in</th>\n",
       "    </tr>\n",
       "  </thead>\n",
       "  <tbody>\n",
       "    <tr>\n",
       "      <th>83</th>\n",
       "      <td>ü</td>\n",
       "      <td>2583</td>\n",
       "    </tr>\n",
       "    <tr>\n",
       "      <th>89</th>\n",
       "      <td>ů</td>\n",
       "      <td>2318</td>\n",
       "    </tr>\n",
       "    <tr>\n",
       "      <th>37</th>\n",
       "      <td>|</td>\n",
       "      <td>2159</td>\n",
       "    </tr>\n",
       "    <tr>\n",
       "      <th>9</th>\n",
       "      <td>)</td>\n",
       "      <td>2043</td>\n",
       "    </tr>\n",
       "    <tr>\n",
       "      <th>8</th>\n",
       "      <td>(</td>\n",
       "      <td>2014</td>\n",
       "    </tr>\n",
       "    <tr>\n",
       "      <th>...</th>\n",
       "      <td>...</td>\n",
       "      <td>...</td>\n",
       "    </tr>\n",
       "    <tr>\n",
       "      <th>46</th>\n",
       "      <td>º</td>\n",
       "      <td>1</td>\n",
       "    </tr>\n",
       "    <tr>\n",
       "      <th>34</th>\n",
       "      <td>_</td>\n",
       "      <td>1</td>\n",
       "    </tr>\n",
       "    <tr>\n",
       "      <th>26</th>\n",
       "      <td>&lt;</td>\n",
       "      <td>1</td>\n",
       "    </tr>\n",
       "    <tr>\n",
       "      <th>6</th>\n",
       "      <td>&amp;</td>\n",
       "      <td>1</td>\n",
       "    </tr>\n",
       "    <tr>\n",
       "      <th>109</th>\n",
       "      <td>♂</td>\n",
       "      <td>1</td>\n",
       "    </tr>\n",
       "  </tbody>\n",
       "</table>\n",
       "<p>110 rows × 2 columns</p>\n",
       "</div>"
      ],
      "text/plain": [
       "    char  contained_in\n",
       "83     ü          2583\n",
       "89     ů          2318\n",
       "37     |          2159\n",
       "9      )          2043\n",
       "8      (          2014\n",
       "..   ...           ...\n",
       "46     º             1\n",
       "34     _             1\n",
       "26     <             1\n",
       "6      &             1\n",
       "109    ♂             1\n",
       "\n",
       "[110 rows x 2 columns]"
      ]
     },
     "metadata": {},
     "output_type": "display_data"
    }
   ],
   "source": [
    "rows = []\n",
    "\n",
    "for i in reduced_unique_characters:\n",
    "    filtered = filter_df_by_strings(dataframe=df, column=\"cei_tenor_joined\", filter_strings=i, mode=\"filter\")\n",
    "    contained_in = len(filtered)\n",
    "    row = {\"char\": i, \"contained_in\": contained_in}\n",
    "    rows.append(row)\n",
    "\n",
    "result_df = pd.DataFrame(rows).sort_values(\"contained_in\", ascending=False)\n",
    "\n",
    "with pd.option_context(\"display.max_colwidth\", None, \"display.max_rows\", 25):\n",
    "    display(result_df)\n",
    "\n",
    "result_df.to_json(\"../data-push/0c-preprocessing-norm/character-usages-unicode.json\")\n",
    "\n",
    "with open(\"../data-push/0c-preprocessing-norm/character-usages-utf8.json\", \"w\", encoding=\"utf-8\") as f:\n",
    "    json.dump(result_df.to_dict(orient=\"records\"), f, ensure_ascii=False)"
   ]
  },
  {
   "attachments": {},
   "cell_type": "markdown",
   "metadata": {},
   "source": [
    "Results show which characters deserve special attention."
   ]
  },
  {
   "attachments": {},
   "cell_type": "markdown",
   "metadata": {},
   "source": [
    "Inspect candidates to reason processing"
   ]
  },
  {
   "cell_type": "code",
   "execution_count": 14,
   "metadata": {},
   "outputs": [
    {
     "data": {
      "text/html": [
       "<div>\n",
       "<style scoped>\n",
       "    .dataframe tbody tr th:only-of-type {\n",
       "        vertical-align: middle;\n",
       "    }\n",
       "\n",
       "    .dataframe tbody tr th {\n",
       "        vertical-align: top;\n",
       "    }\n",
       "\n",
       "    .dataframe thead th {\n",
       "        text-align: right;\n",
       "    }\n",
       "</style>\n",
       "<table border=\"1\" class=\"dataframe\">\n",
       "  <thead>\n",
       "    <tr style=\"text-align: right;\">\n",
       "      <th></th>\n",
       "      <th>char</th>\n",
       "      <th>conc</th>\n",
       "      <th>atom_id</th>\n",
       "      <th>url</th>\n",
       "    </tr>\n",
       "  </thead>\n",
       "  <tbody>\n",
       "    <tr>\n",
       "      <th>0</th>\n",
       "      <td>\\t</td>\n",
       "      <td>uerzicht haben getan Vnd daruber so geben wir - -  [ \\t ] disen prief ze eine offene Vrchunde - - Vnd sint</td>\n",
       "      <td>tag:www.monasterium.net,2011:/charter/AT-StiAK/KlosterneuburgCanReg/1313_V_12</td>\n",
       "      <td>https://www.monasterium.net/mom/AT-StiAK/KlosterneuburgCanReg/1313_V_12/charter</td>\n",
       "    </tr>\n",
       "    <tr>\n",
       "      <th>1</th>\n",
       "      <td>\\n</td>\n",
       "      <td>en vnd hat Im auch versprochen für den obgenanten  [ \\n ] Wilhalm seynen bruder, das der denselben handel d</td>\n",
       "      <td>tag:www.monasterium.net,2011:/charter/AT-StiAStP/UK/1242</td>\n",
       "      <td>https://www.monasterium.net/mom/AT-StiAStP/UK/1242/charter</td>\n",
       "    </tr>\n",
       "    <tr>\n",
       "      <th>2</th>\n",
       "      <td>!</td>\n",
       "      <td>gelegen ist dacz Iniching, besucht vnd vnpeschut ( [ ! ] ), mit allen den rechten die dar czu gehoerent vn</td>\n",
       "      <td>tag:www.monasterium.net,2011:/charter/FreisBm/1339_VIII_14</td>\n",
       "      <td>https://www.monasterium.net/mom/FreisBm/1339_VIII_14/charter</td>\n",
       "    </tr>\n",
       "    <tr>\n",
       "      <th>3</th>\n",
       "      <td>\"</td>\n",
       "      <td>[ \" ] Wir Margaret(1) von Gots genaden pfallentzgrefinn</td>\n",
       "      <td>tag:www.monasterium.net,2011:/charter/AT-StiASchl/Urkunden/1341_I_06</td>\n",
       "      <td>https://www.monasterium.net/mom/AT-StiASchl/Urkunden/1341_I_06/charter</td>\n",
       "    </tr>\n",
       "    <tr>\n",
       "      <th>4</th>\n",
       "      <td>#</td>\n",
       "      <td>nder in, daz der schade alz groz vnd alz geuerlich [ # ]  [ # ]  [ # ]  [ # ]  were, daz man in solte bessern, alz er daz ve</td>\n",
       "      <td>tag:www.monasterium.net,2011:/charter/CSGV/1319_XI_10</td>\n",
       "      <td>https://www.monasterium.net/mom/CSGV/1319_XI_10/charter</td>\n",
       "    </tr>\n",
       "    <tr>\n",
       "      <th>...</th>\n",
       "      <td>...</td>\n",
       "      <td>...</td>\n",
       "      <td>...</td>\n",
       "      <td>...</td>\n",
       "    </tr>\n",
       "    <tr>\n",
       "      <th>105</th>\n",
       "      <td>„</td>\n",
       "      <td>emselben Tag verkauft derselbe (Proler) demselben  [ „ ] vnsrew aygne  Halbe  Hub  di gelegen ist ze Mezze</td>\n",
       "      <td>tag:www.monasterium.net,2011:/charter/OOEUB/1378_III_06.1</td>\n",
       "      <td>https://www.monasterium.net/mom/OOEUB/1378_III_06.1/charter</td>\n",
       "    </tr>\n",
       "    <tr>\n",
       "      <th>106</th>\n",
       "      <td>†</td>\n",
       "      <td>ar und darnach in dem ain und sechtzigistem jare.  [ † ]  hoc est verum  [ † ] .</td>\n",
       "      <td>tag:www.monasterium.net,2011:/charter/AT-StiAG/GoettweigOSB/1361_V_31</td>\n",
       "      <td>https://www.monasterium.net/mom/AT-StiAG/GoettweigOSB/1361_V_31/charter</td>\n",
       "    </tr>\n",
       "    <tr>\n",
       "      <th>107</th>\n",
       "      <td>•</td>\n",
       "      <td>n Hertzog ze Oesterr.. . Embieten vnsern getrewen  [ • ]  [ • ]  dem Richter dem Rat vnd den Purgern gemainlich</td>\n",
       "      <td>tag:www.monasterium.net,2011:/charter/OOEUB/1378_VI_22</td>\n",
       "      <td>https://www.monasterium.net/mom/OOEUB/1378_VI_22/charter</td>\n",
       "    </tr>\n",
       "    <tr>\n",
       "      <th>108</th>\n",
       "      <td>…</td>\n",
       "      <td>genanten purgelschaft schaden nement, ir  wer mit  [ … ]  [ … ]  [ … ]  [ … ] ..r,  mit rechten, mit  nachreyten oder mit ph</td>\n",
       "      <td>tag:www.monasterium.net,2011:/charter/AT-StiAG/GoettweigOSB/1352_I_05</td>\n",
       "      <td>https://www.monasterium.net/mom/AT-StiAG/GoettweigOSB/1352_I_05/charter</td>\n",
       "    </tr>\n",
       "    <tr>\n",
       "      <th>109</th>\n",
       "      <td>♂</td>\n",
       "      <td>Eodem, Ulm,  [ ♂ ]  vor Barthlomaei. Verbündt sich m(eiste)r Heinric</td>\n",
       "      <td>tag:www.monasterium.net,2011:/charter/CSGIX/1377_VIII_18.2</td>\n",
       "      <td>https://www.monasterium.net/mom/CSGIX/1377_VIII_18.2/charter</td>\n",
       "    </tr>\n",
       "  </tbody>\n",
       "</table>\n",
       "<p>110 rows × 4 columns</p>\n",
       "</div>"
      ],
      "text/plain": [
       "    char  \\\n",
       "0     \\t   \n",
       "1     \\n   \n",
       "2      !   \n",
       "3      \"   \n",
       "4      #   \n",
       "..   ...   \n",
       "105    „   \n",
       "106    †   \n",
       "107    •   \n",
       "108    …   \n",
       "109    ♂   \n",
       "\n",
       "                                                                                                                             conc  \\\n",
       "0                     uerzicht haben getan Vnd daruber so geben wir - -  [ \\t ] disen prief ze eine offene Vrchunde - - Vnd sint    \n",
       "1                     en vnd hat Im auch versprochen für den obgenanten  [ \\n ] Wilhalm seynen bruder, das der denselben handel d   \n",
       "2                      gelegen ist dacz Iniching, besucht vnd vnpeschut ( [ ! ] ), mit allen den rechten die dar czu gehoerent vn   \n",
       "3                                                                         [ \" ] Wir Margaret(1) von Gots genaden pfallentzgrefinn   \n",
       "4    nder in, daz der schade alz groz vnd alz geuerlich [ # ]  [ # ]  [ # ]  [ # ]  were, daz man in solte bessern, alz er daz ve   \n",
       "..                                                                                                                            ...   \n",
       "105                    emselben Tag verkauft derselbe (Proler) demselben  [ „ ] vnsrew aygne  Halbe  Hub  di gelegen ist ze Mezze   \n",
       "106                                              ar und darnach in dem ain und sechtzigistem jare.  [ † ]  hoc est verum  [ † ] .   \n",
       "107              n Hertzog ze Oesterr.. . Embieten vnsern getrewen  [ • ]  [ • ]  dem Richter dem Rat vnd den Purgern gemainlich    \n",
       "108  genanten purgelschaft schaden nement, ir  wer mit  [ … ]  [ … ]  [ … ]  [ … ] ..r,  mit rechten, mit  nachreyten oder mit ph   \n",
       "109                                                          Eodem, Ulm,  [ ♂ ]  vor Barthlomaei. Verbündt sich m(eiste)r Heinric   \n",
       "\n",
       "                                                                           atom_id  \\\n",
       "0    tag:www.monasterium.net,2011:/charter/AT-StiAK/KlosterneuburgCanReg/1313_V_12   \n",
       "1                         tag:www.monasterium.net,2011:/charter/AT-StiAStP/UK/1242   \n",
       "2                       tag:www.monasterium.net,2011:/charter/FreisBm/1339_VIII_14   \n",
       "3             tag:www.monasterium.net,2011:/charter/AT-StiASchl/Urkunden/1341_I_06   \n",
       "4                            tag:www.monasterium.net,2011:/charter/CSGV/1319_XI_10   \n",
       "..                                                                             ...   \n",
       "105                      tag:www.monasterium.net,2011:/charter/OOEUB/1378_III_06.1   \n",
       "106          tag:www.monasterium.net,2011:/charter/AT-StiAG/GoettweigOSB/1361_V_31   \n",
       "107                         tag:www.monasterium.net,2011:/charter/OOEUB/1378_VI_22   \n",
       "108          tag:www.monasterium.net,2011:/charter/AT-StiAG/GoettweigOSB/1352_I_05   \n",
       "109                     tag:www.monasterium.net,2011:/charter/CSGIX/1377_VIII_18.2   \n",
       "\n",
       "                                                                                 url  \n",
       "0    https://www.monasterium.net/mom/AT-StiAK/KlosterneuburgCanReg/1313_V_12/charter  \n",
       "1                         https://www.monasterium.net/mom/AT-StiAStP/UK/1242/charter  \n",
       "2                       https://www.monasterium.net/mom/FreisBm/1339_VIII_14/charter  \n",
       "3             https://www.monasterium.net/mom/AT-StiASchl/Urkunden/1341_I_06/charter  \n",
       "4                            https://www.monasterium.net/mom/CSGV/1319_XI_10/charter  \n",
       "..                                                                               ...  \n",
       "105                      https://www.monasterium.net/mom/OOEUB/1378_III_06.1/charter  \n",
       "106          https://www.monasterium.net/mom/AT-StiAG/GoettweigOSB/1361_V_31/charter  \n",
       "107                         https://www.monasterium.net/mom/OOEUB/1378_VI_22/charter  \n",
       "108          https://www.monasterium.net/mom/AT-StiAG/GoettweigOSB/1352_I_05/charter  \n",
       "109                     https://www.monasterium.net/mom/CSGIX/1377_VIII_18.2/charter  \n",
       "\n",
       "[110 rows x 4 columns]"
      ]
     },
     "metadata": {},
     "output_type": "display_data"
    }
   ],
   "source": [
    "rows = []\n",
    "# individuals = [\"%\"]\n",
    "\n",
    "for i in reduced_unique_characters:  # _ref\n",
    "    filtered = filter_df_by_strings(\n",
    "        dataframe=df, column=\"cei_tenor_joined\", filter_strings=i, mode=\"filter\"\n",
    "    )  # change iterator for i for individuals\n",
    "    sample = filtered.sample(n=1)\n",
    "    [cei_tenor_joined] = sample.cei_tenor_joined\n",
    "    [atom_id] = sample.atom_id\n",
    "    url = chatomid_to_url(atom_id)\n",
    "    concordance = get_concordance(cei_tenor_joined, i)\n",
    "    row = {\"char\": i, \"conc\": concordance, \"atom_id\": atom_id, \"url\": url}\n",
    "    rows.append(row)\n",
    "\n",
    "result_df = pd.DataFrame(rows)\n",
    "\n",
    "with pd.option_context(\"display.max_colwidth\", None, \"display.max_rows\", 25):\n",
    "    display(result_df)\n",
    "\n",
    "result_df.to_json(\"../data-push/0c-preprocessing-norm/symbolic-concordances.json\")"
   ]
  },
  {
   "cell_type": "code",
   "execution_count": 15,
   "metadata": {},
   "outputs": [
    {
     "data": {
      "text/html": [
       "<div>\n",
       "<style scoped>\n",
       "    .dataframe tbody tr th:only-of-type {\n",
       "        vertical-align: middle;\n",
       "    }\n",
       "\n",
       "    .dataframe tbody tr th {\n",
       "        vertical-align: top;\n",
       "    }\n",
       "\n",
       "    .dataframe thead th {\n",
       "        text-align: right;\n",
       "    }\n",
       "</style>\n",
       "<table border=\"1\" class=\"dataframe\">\n",
       "  <thead>\n",
       "    <tr style=\"text-align: right;\">\n",
       "      <th></th>\n",
       "      <th>char</th>\n",
       "      <th>conc</th>\n",
       "      <th>id</th>\n",
       "    </tr>\n",
       "  </thead>\n",
       "  <tbody>\n",
       "    <tr>\n",
       "      <th>0</th>\n",
       "      <td>!</td>\n",
       "      <td>sô er schier bîhtet sô er êrst die sünde getuot. [ [ ! ]  [ ! ] ] [ [ ! ]  [ ! ] ] [ [ ! ]  [ ! ] ] [ [ ! ]  [ ! ] ] [ [ ! ]  [ ! ] ] [ [ ! ]  [ ! ] ] [ [ ! ]  [ ! ] ] [ [ ! ]  [ ! ] ] [ [ ! ]  [ ! ] ] [ [ ! ]  [ ! ] ] [</td>\n",
       "      <td>M322</td>\n",
       "    </tr>\n",
       "    <tr>\n",
       "      <th>1</th>\n",
       "      <td>\"</td>\n",
       "      <td>wande selbe alsus gebôt aperi os tuum et implebo. [ \" ]  daz sprichet tuo ûf dînen munt ich ervüll dir ze</td>\n",
       "      <td>M103</td>\n",
       "    </tr>\n",
       "    <tr>\n",
       "      <th>2</th>\n",
       "      <td>#</td>\n",
       "      <td>ete si durch nôt. Isaac unde Ismahel. di tâten ein [ # ] ander vile wê. dô bat diu vrouwe Sarê. den hêrren</td>\n",
       "      <td>M087</td>\n",
       "    </tr>\n",
       "    <tr>\n",
       "      <th>3</th>\n",
       "      <td>%</td>\n",
       "      <td>in ariese. wande ir scheidet ouch mit unminnen. ap [ % ]  [ % ] il\\ dicoet. sô dû vindes daz signum in tauruse.</td>\n",
       "      <td>M146</td>\n",
       "    </tr>\n",
       "    <tr>\n",
       "      <th>4</th>\n",
       "      <td>'</td>\n",
       "      <td>tunge mîn. den verse alliu menige drî antwürte zuo [ ' ]  guonlîche dem vater. danne selbe der bruoder nov</td>\n",
       "      <td>M358</td>\n",
       "    </tr>\n",
       "    <tr>\n",
       "      <th>...</th>\n",
       "      <td>...</td>\n",
       "      <td>...</td>\n",
       "      <td>...</td>\n",
       "    </tr>\n",
       "    <tr>\n",
       "      <th>51</th>\n",
       "      <td>û</td>\n",
       "      <td>domine labia mea aperies. n [ û ]  gestate hêrre mir des. daz ich dîn lop gespreche</td>\n",
       "      <td>M223</td>\n",
       "    </tr>\n",
       "    <tr>\n",
       "      <th>52</th>\n",
       "      <td>ü</td>\n",
       "      <td>pfen Adâm habete sich behalten dô sich Luzifer dô  [ ü ] bele gevienc und Adâm diu gotes wort  [ ü ] bergienc dô</td>\n",
       "      <td>M013B</td>\n",
       "    </tr>\n",
       "    <tr>\n",
       "      <th>53</th>\n",
       "      <td>ý</td>\n",
       "      <td>an der siechen krancheit. unde gelouben daz ein em [ ý ] na wînes iegelîchen ze tage genüege. den aber got</td>\n",
       "      <td>M508</td>\n",
       "    </tr>\n",
       "    <tr>\n",
       "      <th>54</th>\n",
       "      <td>ſ</td>\n",
       "      <td>ich diene im harte gerne. sô ich iemer allerbezzi [ ſ ] te kan. sîn swert zuhte der drâte. unde lief den</td>\n",
       "      <td>M522</td>\n",
       "    </tr>\n",
       "    <tr>\n",
       "      <th>55</th>\n",
       "      <td>≈</td>\n",
       "      <td>az velt den tou entvienc unde nazzete daz gras die [ ≈ ] wîle [ ≈ ] daz die küelde noch was sie riten ûz alsô dâ</td>\n",
       "      <td>M541S</td>\n",
       "    </tr>\n",
       "  </tbody>\n",
       "</table>\n",
       "<p>56 rows × 3 columns</p>\n",
       "</div>"
      ],
      "text/plain": [
       "   char  \\\n",
       "0     !   \n",
       "1     \"   \n",
       "2     #   \n",
       "3     %   \n",
       "4     '   \n",
       "..  ...   \n",
       "51    û   \n",
       "52    ü   \n",
       "53    ý   \n",
       "54    ſ   \n",
       "55    ≈   \n",
       "\n",
       "                                                                                                                                                                                                                            conc  \\\n",
       "0   sô er schier bîhtet sô er êrst die sünde getuot. [ [ ! ]  [ ! ] ] [ [ ! ]  [ ! ] ] [ [ ! ]  [ ! ] ] [ [ ! ]  [ ! ] ] [ [ ! ]  [ ! ] ] [ [ ! ]  [ ! ] ] [ [ ! ]  [ ! ] ] [ [ ! ]  [ ! ] ] [ [ ! ]  [ ! ] ] [ [ ! ]  [ ! ] ] [   \n",
       "1                                                                                                                      wande selbe alsus gebôt aperi os tuum et implebo. [ \" ]  daz sprichet tuo ûf dînen munt ich ervüll dir ze   \n",
       "2                                                                                                                     ete si durch nôt. Isaac unde Ismahel. di tâten ein [ # ] ander vile wê. dô bat diu vrouwe Sarê. den hêrren   \n",
       "3                                                                                                               in ariese. wande ir scheidet ouch mit unminnen. ap [ % ]  [ % ] il\\ dicoet. sô dû vindes daz signum in tauruse.    \n",
       "4                                                                                                                     tunge mîn. den verse alliu menige drî antwürte zuo [ ' ]  guonlîche dem vater. danne selbe der bruoder nov   \n",
       "..                                                                                                                                                                                                                           ...   \n",
       "51                                                                                                                                           domine labia mea aperies. n [ û ]  gestate hêrre mir des. daz ich dîn lop gespreche   \n",
       "52                                                                                                              pfen Adâm habete sich behalten dô sich Luzifer dô  [ ü ] bele gevienc und Adâm diu gotes wort  [ ü ] bergienc dô   \n",
       "53                                                                                                                    an der siechen krancheit. unde gelouben daz ein em [ ý ] na wînes iegelîchen ze tage genüege. den aber got   \n",
       "54                                                                                                                     ich diene im harte gerne. sô ich iemer allerbezzi [ ſ ] te kan. sîn swert zuhte der drâte. unde lief den    \n",
       "55                                                                                                              az velt den tou entvienc unde nazzete daz gras die [ ≈ ] wîle [ ≈ ] daz die küelde noch was sie riten ûz alsô dâ   \n",
       "\n",
       "       id  \n",
       "0    M322  \n",
       "1    M103  \n",
       "2    M087  \n",
       "3    M146  \n",
       "4    M358  \n",
       "..    ...  \n",
       "51   M223  \n",
       "52  M013B  \n",
       "53   M508  \n",
       "54   M522  \n",
       "55  M541S  \n",
       "\n",
       "[56 rows x 3 columns]"
      ]
     },
     "metadata": {},
     "output_type": "display_data"
    }
   ],
   "source": [
    "rows = []\n",
    "\n",
    "for i in reduced_unique_characters_ref:\n",
    "    filtered = filter_df_by_strings(dataframe=df_ref, column=\"text\", filter_strings=i, mode=\"filter\")\n",
    "    sample = filtered.sample(n=1)\n",
    "    [text] = sample.text\n",
    "    [id] = sample.id\n",
    "    concordance = get_concordance(text, i)\n",
    "\n",
    "    row = {\"char\": i, \"conc\": concordance, \"id\": id}\n",
    "    rows.append(row)\n",
    "\n",
    "result_df = pd.DataFrame(rows)\n",
    "\n",
    "with pd.option_context(\"display.max_colwidth\", None, \"display.max_rows\", 25):\n",
    "    display(result_df)\n",
    "\n",
    "result_df.to_json(\"../data-push/0c-preprocessing-norm/symbolic-concordances-ref.json\")"
   ]
  },
  {
   "attachments": {},
   "cell_type": "markdown",
   "metadata": {},
   "source": [
    "List and apply semi-automatic filters"
   ]
  },
  {
   "attachments": {},
   "cell_type": "markdown",
   "metadata": {},
   "source": [
    "Sequences that are removed before anything else"
   ]
  },
  {
   "cell_type": "code",
   "execution_count": 16,
   "metadata": {},
   "outputs": [],
   "source": [
    "regexes = [\n",
    "    r\"\\(.*?\\)\",  # irregular insertions\n",
    "    r\"\\[.*?\\]\",  # additions, comments, references\n",
    "    r\"\\d+\",  # references, normalized dates\n",
    "]"
   ]
  },
  {
   "cell_type": "code",
   "execution_count": 17,
   "metadata": {},
   "outputs": [],
   "source": [
    "df_processed = delete_strings_by_regex(df, \"cei_tenor_joined\", regex_list=regexes)\n",
    "df_ref_processed = delete_strings_by_regex(df_ref, \"text\", regex_list=regexes)"
   ]
  },
  {
   "attachments": {},
   "cell_type": "markdown",
   "metadata": {},
   "source": [
    "List sequences that are transformerd"
   ]
  },
  {
   "cell_type": "code",
   "execution_count": 18,
   "metadata": {},
   "outputs": [],
   "source": [
    "transform_chars = {\n",
    "    \"ſ\": \"s\",\n",
    "    \"&\": \"und\",\n",
    "    \"c͛\": \"cetera\",\n",
    "    \"ŵ\": \"w\",\n",
    "    \"Æ\": \"Ae\",\n",
    "    \"æ\": \"ae\",\n",
    "    \"Œ\": \"Oe\",\n",
    "    \"œ\": \"oe\"\n",
    "}"
   ]
  },
  {
   "cell_type": "code",
   "execution_count": 19,
   "metadata": {},
   "outputs": [],
   "source": [
    "df_processed_transformed = df_processed.assign(\n",
    "    cei_tenor_joined=df_processed[\"cei_tenor_joined\"].apply(lambda x: map_strings(x, transform_chars))\n",
    ").copy()\n",
    "\n",
    "df_ref_processed_transformed = df_ref_processed.assign(\n",
    "    text=df_ref_processed[\"text\"].apply(lambda x: map_strings(x, transform_chars))\n",
    ").copy()"
   ]
  },
  {
   "cell_type": "code",
   "execution_count": 20,
   "metadata": {},
   "outputs": [
    {
     "name": "stdout",
     "output_type": "stream",
     "text": [
      "[]\n",
      "[]\n"
     ]
    }
   ],
   "source": [
    "test_chars = get_unique_characters(\"\".join(df_processed_transformed.cei_tenor_joined.to_list()))\n",
    "test_chars_ref = get_unique_characters(\"\".join(df_ref_processed_transformed.text.to_list()))\n",
    "print(list(char for char in test_chars if char in transform_chars))\n",
    "print(list(char for char in test_chars_ref if char in transform_chars))"
   ]
  },
  {
   "attachments": {},
   "cell_type": "markdown",
   "metadata": {},
   "source": [
    "### List characters that result in removing the text\n",
    "Some require a deletion of the text from the corpus. Reasons for this are"
   ]
  },
  {
   "cell_type": "code",
   "execution_count": 21,
   "metadata": {},
   "outputs": [],
   "source": [
    "strings_to_remove_by = [\n",
    "    \"“\",  # transcription, insertion, or comment\n",
    "    \"„\",  # transcription, insertion, or comment\n",
    "    '\"',  # transcription, insertion, or comment; single comma escape\n",
    "    \"dorsal\",  # comment\n",
    "    \"Aussteller\",  # insertion\n",
    "    \"Siegler\",  # insertion\n",
    "    \" sic \",  # insertion\n",
    "    \"½\",  # insertion\n",
    "    \"*\",  # reference\n",
    "    \"etc.\",  # missing text\n",
    "    \"-\",  # missing text\n",
    "    \"—\",  # missing text\n",
    "    \"…\",  # missing text\n",
    "    \"#\",  # missing text; unclear\n",
    "    \"~\",  # missing text; unclear\n",
    "    \"=\",  # missing text; unclear\n",
    "    \"_\",  # unclear\n",
    "    \"«\",  # unclear\n",
    "    \"$\",  # unclear\n",
    "    \"{\",  # unclear\n",
    "    \"}\",  # unclear\n",
    "    \"•\",  # unclear\n",
    "    \"º\",  # unclear\n",
    "    \"<\",  # unclear\n",
    "    \">\",  # unclear\n",
    "    \"»\",  # unclear\n",
    "    \"«\",  # unclear\n",
    "    \"\",  # unclear\n",
    "]"
   ]
  },
  {
   "cell_type": "code",
   "execution_count": 22,
   "metadata": {},
   "outputs": [],
   "source": [
    "df_processed_transformed_filtered = filter_df_by_strings(\n",
    "    dataframe=df_processed_transformed,\n",
    "    column=\"cei_tenor_joined\",\n",
    "    filter_strings=strings_to_remove_by,\n",
    "    mode=\"substrate\",\n",
    ").copy()\n",
    "\n",
    "df_ref_processed_transformed_filtered = filter_df_by_strings(\n",
    "    dataframe=df_ref_processed_transformed, column=\"text\", filter_strings=strings_to_remove_by, mode=\"substrate\"\n",
    ").copy()"
   ]
  },
  {
   "cell_type": "code",
   "execution_count": 23,
   "metadata": {},
   "outputs": [
    {
     "name": "stdout",
     "output_type": "stream",
     "text": [
      "[]\n",
      "[]\n"
     ]
    }
   ],
   "source": [
    "test_chars = get_unique_characters(\"\".join(df_processed_transformed_filtered.cei_tenor_joined.to_list()))\n",
    "test_chars_ref = get_unique_characters(\"\".join(df_ref_processed_transformed_filtered.text.to_list()))\n",
    "print(list(char for char in test_chars if char in strings_to_remove_by))\n",
    "print(list(char for char in test_chars_ref if char in strings_to_remove_by))"
   ]
  },
  {
   "attachments": {},
   "cell_type": "markdown",
   "metadata": {},
   "source": [
    "### List characters that are removed\n",
    "Here, symbols that signal diacritics are removed. This is because both corpora, but especially the charters, have highly irregular spelling. They are therefore standardized and simplified, as exercized in the REM."
   ]
  },
  {
   "cell_type": "code",
   "execution_count": 24,
   "metadata": {},
   "outputs": [],
   "source": [
    "strings_to_remove = [\n",
    "    \"|\",  # especially as doubles used to mark paragraphs\n",
    "    \"+\",  # used to mark symbol relevant for diplomatics\n",
    "    \"†\",  # used to mark symbol relevant for diplomatics\n",
    "    \"?\",  # used to express uncertainty in transcription, often with brackets\n",
    "    \"!\",  # emphasis\n",
    "    \"¬\",  # some graphemic gradient or break\n",
    "    \"♂\",  # unclear\n",
    "    \"§\",  # unclear\n",
    "    \"%\",  # unclear\n",
    "    \"≈\",  # unclear\n",
    "    \"~\",  # unclear\n",
    "    \"-\",  # missing text\n",
    "    \"—\",  # missing text\n",
    "    \"\\t\",  # tab\n",
    "    \"\\n\",  # newline\n",
    "    \"°\",  # diacritics\n",
    "    \"^\",  # diacritics\n",
    "    \"´\",  # diacritics\n",
    "    \"`\",  # diacritics\n",
    "    \"\\\\\",  # diacritics\n",
    "    \"/\",  # diacritics\n",
    "    \"ˇ\",  # diacritics\n",
    "    \"`\",  # diacrtiics\n",
    "    \"'\",  # diacritics\n",
    "    \"¨\",  # diacritics\n",
    "    \"(\",  # clutter\n",
    "    \")\",  # clutter\n",
    "    \"[\",  # clutter\n",
    "    \"]\",  # clutter\n",
    "]"
   ]
  },
  {
   "cell_type": "code",
   "execution_count": 25,
   "metadata": {},
   "outputs": [],
   "source": [
    "df_processed_semiauto = delete_substrings(df_processed_transformed_filtered, \"cei_tenor_joined\", strings_to_remove)\n",
    "df_ref_processed_semiauto = delete_substrings(df_ref_processed_transformed_filtered, \"text\", strings_to_remove)"
   ]
  },
  {
   "cell_type": "code",
   "execution_count": 26,
   "metadata": {},
   "outputs": [
    {
     "name": "stdout",
     "output_type": "stream",
     "text": [
      "[]\n",
      "[]\n"
     ]
    }
   ],
   "source": [
    "test_chars = get_unique_characters(\"\".join(df_processed_semiauto.cei_tenor_joined.to_list()))\n",
    "test_chars_ref = get_unique_characters(\"\".join(df_ref_processed_semiauto.text.to_list()))\n",
    "print(list(char for char in test_chars if char in strings_to_remove))\n",
    "print(list(char for char in test_chars_ref if char in strings_to_remove))"
   ]
  },
  {
   "attachments": {},
   "cell_type": "markdown",
   "metadata": {},
   "source": [
    "# List and apply automatic filters"
   ]
  },
  {
   "cell_type": "code",
   "execution_count": 27,
   "metadata": {},
   "outputs": [],
   "source": [
    "def clean_mhg_string(text):\n",
    "    cleaned = clean(\n",
    "        text=text,\n",
    "        fix_unicode=True,  # fixes potential unicode errors\n",
    "        to_ascii=True,  # transliterates to closest ASCII representation\n",
    "        lower=False,\n",
    "        no_line_breaks=False,  # fully strips line breaks as opposed to only normalizing them\n",
    "        no_punct=False,  # keeps punctuation\n",
    "        lang=\"en\",  # is \"en\" since less intrusive and in line with  conventions of REM team, e.g. ö != oe\n",
    "    )\n",
    "    return cleaned"
   ]
  },
  {
   "cell_type": "code",
   "execution_count": 28,
   "metadata": {},
   "outputs": [],
   "source": [
    "df_processed_full = df_processed_semiauto.assign(\n",
    "    cei_tenor_joined=df_processed_semiauto[\"cei_tenor_joined\"].apply(lambda x: clean_mhg_string(x))\n",
    ").copy()\n",
    "\n",
    "df_ref_processed_full = df_ref_processed_semiauto.assign(\n",
    "    text=df_ref_processed_semiauto[\"text\"].apply(lambda x: clean_mhg_string(x))\n",
    ").copy()"
   ]
  },
  {
   "cell_type": "code",
   "execution_count": 29,
   "metadata": {},
   "outputs": [],
   "source": [
    "test_chars = get_unique_characters(\"\".join(df_processed_full.cei_tenor_joined.to_list()))\n",
    "test_chars_ref = get_unique_characters(\"\".join(df_ref_processed_full.text.to_list()))"
   ]
  },
  {
   "cell_type": "code",
   "execution_count": 30,
   "metadata": {},
   "outputs": [
    {
     "name": "stdout",
     "output_type": "stream",
     "text": [
      "[' ', ',', '.', ':', ';', 'A', 'B', 'C', 'D', 'E', 'F', 'G', 'H', 'I', 'J', 'K', 'L', 'M', 'N', 'O', 'P', 'Q', 'R', 'S', 'T', 'U', 'V', 'W', 'X', 'Y', 'Z', 'a', 'b', 'c', 'd', 'e', 'f', 'g', 'h', 'i', 'j', 'k', 'l', 'm', 'n', 'o', 'p', 'q', 'r', 's', 't', 'u', 'v', 'w', 'x', 'y', 'z']\n",
      "[\"'\", '-', '^', '~']\n",
      "[]\n"
     ]
    }
   ],
   "source": [
    "print(list(char for char in test_chars if char in test_chars_ref))\n",
    "print(list(char for char in test_chars if char not in test_chars_ref))\n",
    "print(list(char for char in test_chars_ref if char not in test_chars))"
   ]
  },
  {
   "attachments": {},
   "cell_type": "markdown",
   "metadata": {},
   "source": [
    "Here, it is visible that the automatic cleaning resulted in a split of some non-standard characters."
   ]
  },
  {
   "attachments": {},
   "cell_type": "markdown",
   "metadata": {},
   "source": [
    "# Re-clean candidates"
   ]
  },
  {
   "cell_type": "code",
   "execution_count": 31,
   "metadata": {},
   "outputs": [],
   "source": [
    "df_processed_final = delete_substrings(df_processed_full, \"cei_tenor_joined\", strings_to_remove)\n",
    "df_ref_processed_final = delete_substrings(df_ref_processed_full, \"text\", strings_to_remove)"
   ]
  },
  {
   "cell_type": "code",
   "execution_count": 32,
   "metadata": {},
   "outputs": [
    {
     "name": "stdout",
     "output_type": "stream",
     "text": [
      "[]\n",
      "[]\n"
     ]
    }
   ],
   "source": [
    "test_chars = get_unique_characters(\"\".join(df_processed_final.cei_tenor_joined.to_list()))\n",
    "test_chars_ref = get_unique_characters(\"\".join(df_ref_processed_final.text.to_list()))\n",
    "print(list(char for char in test_chars if char in strings_to_remove))\n",
    "print(list(char for char in test_chars_ref if char in strings_to_remove))"
   ]
  },
  {
   "cell_type": "code",
   "execution_count": 33,
   "metadata": {},
   "outputs": [
    {
     "name": "stdout",
     "output_type": "stream",
     "text": [
      "[' ', ',', '.', ':', ';', 'A', 'B', 'C', 'D', 'E', 'F', 'G', 'H', 'I', 'J', 'K', 'L', 'M', 'N', 'O', 'P', 'Q', 'R', 'S', 'T', 'U', 'V', 'W', 'X', 'Y', 'Z', 'a', 'b', 'c', 'd', 'e', 'f', 'g', 'h', 'i', 'j', 'k', 'l', 'm', 'n', 'o', 'p', 'q', 'r', 's', 't', 'u', 'v', 'w', 'x', 'y', 'z']\n",
      "[]\n",
      "[]\n"
     ]
    }
   ],
   "source": [
    "print(list(char for char in test_chars if char in test_chars_ref))\n",
    "print(list(char for char in test_chars if char not in test_chars_ref))\n",
    "print(list(char for char in test_chars_ref if char not in test_chars))"
   ]
  },
  {
   "attachments": {},
   "cell_type": "markdown",
   "metadata": {},
   "source": [
    "Finally, there are no non-standard characters, except for dashes and dots designating missing text."
   ]
  },
  {
   "attachments": {},
   "cell_type": "markdown",
   "metadata": {},
   "source": [
    "# Prepare for export\n",
    "The corpus contains charters that have missing-text-sequences and have images. They later serve for testing the sequence prediction model."
   ]
  },
  {
   "attachments": {},
   "cell_type": "markdown",
   "metadata": {},
   "source": [
    "### Filter by irregular punctuation"
   ]
  },
  {
   "attachments": {},
   "cell_type": "markdown",
   "metadata": {},
   "source": [
    "This pattern is not encompassing, i.e., it does not capture all whitespace + punctuation combinations. However, it suffices for differentiating between charters that lack large amounts of their text."
   ]
  },
  {
   "cell_type": "code",
   "execution_count": 34,
   "metadata": {},
   "outputs": [],
   "source": [
    "dot_pattern = r\"\\.\\s*\\.\\s*\\.\""
   ]
  },
  {
   "cell_type": "code",
   "execution_count": 35,
   "metadata": {},
   "outputs": [],
   "source": [
    "df_processed_final_full_texts = filter_df_by_regex(\n",
    "    dataframe=df_processed_final, column=\"cei_tenor_joined\", regex=dot_pattern, mode=\"substrate\"\n",
    ")\n",
    "\n",
    "df_ref_processed_final_full_texts = filter_df_by_regex(\n",
    "    dataframe=df_ref_processed_final, column=\"text\", regex=dot_pattern, mode=\"substrate\"\n",
    ")"
   ]
  },
  {
   "cell_type": "code",
   "execution_count": 36,
   "metadata": {},
   "outputs": [
    {
     "name": "stdout",
     "output_type": "stream",
     "text": [
      "7543\n",
      "7286\n"
     ]
    }
   ],
   "source": [
    "print(len(df_processed_final))\n",
    "print(len(df_processed_final_full_texts))"
   ]
  },
  {
   "cell_type": "code",
   "execution_count": 37,
   "metadata": {},
   "outputs": [
    {
     "name": "stdout",
     "output_type": "stream",
     "text": [
      "351\n",
      "245\n"
     ]
    }
   ],
   "source": [
    "print(len(df_ref_processed_final))\n",
    "print(len(df_ref_processed_final_full_texts))"
   ]
  },
  {
   "attachments": {},
   "cell_type": "markdown",
   "metadata": {},
   "source": [
    "Cluttered punctuation results in over 250 charters being removed. Removing similar amounts from the reference corpus can not be deemed feasible and is therefore not undertaken. Instead, they are slightly reduced, and later removed when necessary."
   ]
  },
  {
   "cell_type": "code",
   "execution_count": 38,
   "metadata": {},
   "outputs": [],
   "source": [
    "df_ref_processed_final[\"text\"] = df_ref_processed_final[\"text\"].replace(dot_pattern, \"...\", regex=True)"
   ]
  },
  {
   "attachments": {},
   "cell_type": "markdown",
   "metadata": {},
   "source": [
    "## List charters missing text and with image urls"
   ]
  },
  {
   "attachments": {},
   "cell_type": "markdown",
   "metadata": {},
   "source": [
    "### List charters containing images, filter by image, and clean"
   ]
  },
  {
   "cell_type": "code",
   "execution_count": 39,
   "metadata": {},
   "outputs": [],
   "source": [
    "df_exploded = explode_columns(\n",
    "    final_language_filtered, columns=[\"atom_id\", \"cei_graphic_ATTRIBUTE_url_orig\", \"cei_graphic_ATTRIBUTE_url_copy\"]\n",
    ")\n",
    "charters_with_images = df_exploded[df_exploded[\"cei_graphic_ATTRIBUTE_url_orig\"].notna()]\n",
    "charters_with_images2 = charters_with_images[charters_with_images[\"cei_graphic_ATTRIBUTE_url_copy\"].notna()]"
   ]
  },
  {
   "cell_type": "code",
   "execution_count": 40,
   "metadata": {},
   "outputs": [],
   "source": [
    "charters_with_images.atom_id.to_csv(\n",
    "    \"../data-push/0c-preprocessing-norm/mhg-charters-with-images.csv\", encoding=\"utf-8\"\n",
    ")\n",
    "charters_with_images = pd.read_csv(\"../data-push/0c-preprocessing-norm/mhg-charters-with-images.csv\", encoding=\"utf-8\")"
   ]
  },
  {
   "cell_type": "code",
   "execution_count": 41,
   "metadata": {},
   "outputs": [],
   "source": [
    "df_processed_gaps_and_images = filter_df_by_regex(\n",
    "    dataframe=(df_processed_final[df_processed_final[\"atom_id\"].isin(charters_with_images.atom_id)]),\n",
    "    column=\"cei_tenor_joined\",\n",
    "    regex=dot_pattern,\n",
    "    mode=\"filter\",\n",
    ")\n",
    "\n",
    "df_processed_gaps_and_image_urls = df_processed_gaps_and_images.assign(\n",
    "    url=df_processed_gaps_and_images[\"atom_id\"].apply(lambda x: chatomid_to_url(x))\n",
    ").copy()"
   ]
  },
  {
   "attachments": {},
   "cell_type": "markdown",
   "metadata": {},
   "source": [
    "Over 100 charters have multiple cluttered punctuations AND images. These are charters that are potential candidates where character sequences signal actual missing text that is not transmitted in the original."
   ]
  },
  {
   "attachments": {},
   "cell_type": "markdown",
   "metadata": {},
   "source": [
    "# Export"
   ]
  },
  {
   "cell_type": "code",
   "execution_count": 42,
   "metadata": {},
   "outputs": [],
   "source": [
    "df_processed_final_full_texts.to_json(\"../data-push/0c-preprocessing-norm/df-processed-final-full-texts.json\")\n",
    "df_ref_processed_final.to_json(\"../data-push/0c-preprocessing-norm/df-ref-processed-final.json\")\n",
    "df_processed_gaps_and_image_urls.to_json(\"../data-push/0c-preprocessing-norm/df-processed-gaps-and-image-urls.json\")"
   ]
  },
  {
   "attachments": {},
   "cell_type": "markdown",
   "metadata": {},
   "source": [
    "Plot pre-processed vs processed charter numbers"
   ]
  },
  {
   "cell_type": "code",
   "execution_count": 43,
   "metadata": {},
   "outputs": [],
   "source": [
    "df_pre_processed = pd.read_json(\"../data-push/0b-preprocessing-main/charters-filtered-final.json\", encoding=\"utf-8\")\n",
    "df_processed = pd.read_json(\"../data-push/0c-preprocessing-norm/df-processed-final-full-texts.json\", encoding=\"utf-8\")"
   ]
  },
  {
   "cell_type": "code",
   "execution_count": 44,
   "metadata": {},
   "outputs": [
    {
     "data": {
      "text/plain": [
       "9191"
      ]
     },
     "execution_count": 44,
     "metadata": {},
     "output_type": "execute_result"
    }
   ],
   "source": [
    "len(df_pre_processed)"
   ]
  },
  {
   "cell_type": "code",
   "execution_count": 45,
   "metadata": {},
   "outputs": [
    {
     "data": {
      "text/plain": [
       "7286"
      ]
     },
     "execution_count": 45,
     "metadata": {},
     "output_type": "execute_result"
    }
   ],
   "source": [
    "len(df_processed)"
   ]
  },
  {
   "cell_type": "code",
   "execution_count": 46,
   "metadata": {},
   "outputs": [
    {
     "data": {
      "text/plain": [
       "1905"
      ]
     },
     "execution_count": 46,
     "metadata": {},
     "output_type": "execute_result"
    }
   ],
   "source": [
    "len(df_pre_processed) - len(df_processed)"
   ]
  },
  {
   "attachments": {},
   "cell_type": "markdown",
   "metadata": {},
   "source": [
    "Get bins in steps"
   ]
  },
  {
   "cell_type": "code",
   "execution_count": 47,
   "metadata": {},
   "outputs": [
    {
     "data": {
      "text/plain": [
       "(1250, 1260]       7\n",
       "(1260, 1270]       5\n",
       "(1270, 1280]      39\n",
       "(1280, 1290]     119\n",
       "(1290, 1300]     370\n",
       "(1300, 1310]     494\n",
       "(1310, 1320]     643\n",
       "(1320, 1330]     716\n",
       "(1330, 1340]     874\n",
       "(1340, 1350]     996\n",
       "(1350, 1360]    1081\n",
       "(1360, 1370]    1074\n",
       "(1370, 1380]    1457\n",
       "(1380, 1390]     841\n",
       "Name: year, dtype: int64"
      ]
     },
     "execution_count": 47,
     "metadata": {},
     "output_type": "execute_result"
    }
   ],
   "source": [
    "bins = pd.cut(df_pre_processed.year, bins=range(1250, df_pre_processed.year.max() + 1, 10))\n",
    "bin_counts = pd.value_counts(bins, sort=False)\n",
    "bin_counts"
   ]
  },
  {
   "cell_type": "code",
   "execution_count": 48,
   "metadata": {},
   "outputs": [
    {
     "data": {
      "text/plain": [
       "(1250, 1260]       7\n",
       "(1260, 1270]       3\n",
       "(1270, 1280]      36\n",
       "(1280, 1290]     106\n",
       "(1290, 1300]     346\n",
       "(1300, 1310]     420\n",
       "(1310, 1320]     552\n",
       "(1320, 1330]     621\n",
       "(1330, 1340]     753\n",
       "(1340, 1350]     874\n",
       "(1350, 1360]     893\n",
       "(1360, 1370]     840\n",
       "(1370, 1380]    1005\n",
       "(1380, 1390]     594\n",
       "Name: year, dtype: int64"
      ]
     },
     "execution_count": 48,
     "metadata": {},
     "output_type": "execute_result"
    }
   ],
   "source": [
    "# steps\n",
    "bins = pd.cut(df_processed.year, bins=range(1250, df_pre_processed.year.max() + 1, 10))\n",
    "bin_counts = pd.value_counts(bins, sort=False)\n",
    "bin_counts"
   ]
  },
  {
   "attachments": {},
   "cell_type": "markdown",
   "metadata": {},
   "source": [
    "As bins"
   ]
  },
  {
   "cell_type": "code",
   "execution_count": 50,
   "metadata": {},
   "outputs": [
    {
     "data": {
      "image/png": "[encoded data removed]",
      "text/plain": [
       "<Figure size 555x342 with 1 Axes>"
      ]
     },
     "metadata": {},
     "output_type": "display_data"
    }
   ],
   "source": [
    "sources = [\"pre-processed\", \"processed\"]\n",
    "labels = [\"Pre-processed Data\", \"Processed Data\"]\n",
    "\n",
    "for i, source in enumerate(sources):\n",
    "    data = df_pre_processed.year if source == \"pre-processed\" else df_processed.year\n",
    "    sns.histplot(data[data >= 1275], bins=15, color=colors[i], label=labels[i])\n",
    "\n",
    "#plt.legend(bbox_to_anchor=(0.5, -0.5), loc=8)\n",
    "plt.legend(bbox_to_anchor=(1.575, 0.5), loc=\"center right\")\n",
    "plt.xlabel(\"Year\")\n",
    "plt.savefig(\"../data-push/0c-preprocessing-norm/processed-preprocessed.pdf\", format=\"pdf\", bbox_inches=\"tight\")\n",
    "\n",
    "plt.show()"
   ]
  }
 ],
 "metadata": {
  "kernelspec": {
   "display_name": "ma-thesis-dh-code",
   "language": "python",
   "name": "python3"
  },
  "language_info": {
   "codemirror_mode": {
    "name": "ipython",
    "version": 3
   },
   "file_extension": ".py",
   "mimetype": "text/x-python",
   "name": "python",
   "nbconvert_exporter": "python",
   "pygments_lexer": "ipython3",
   "version": "3.10.10"
  },
  "orig_nbformat": 4,
  "vscode": {
   "interpreter": {
    "hash": "dc7a69ea76d1f43569283ce3173bffeec61f095afc233fcb69d493993a19f27f"
   }
  }
 },
 "nbformat": 4,
 "nbformat_minor": 2
}
